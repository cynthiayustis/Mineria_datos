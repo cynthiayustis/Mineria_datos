{
 "cells": [
  {
   "cell_type": "markdown",
   "id": "713022e2",
   "metadata": {},
   "source": [
    "## Ejercicio\n",
    "\n",
    "Se da el siguiente texto y se pide contar las palabra más comunes para realizar alguna tarea de análisis de texto."
   ]
  },
  {
   "cell_type": "markdown",
   "id": "1cd2d50c",
   "metadata": {},
   "source": [
    "#### Solo es necesario correr esta casilla en caso de no tener instalados estos paquetes o bibliotecas, convertir a formato code \n",
    "!pip install nltk\n",
    "!pip install cleantext\n",
    "!pip install contractions\n",
    "!pip install unidecode\n",
    "nltk.download('stopwords')\n",
    "nltk.download('wordnet')"
   ]
  },
  {
   "cell_type": "code",
   "execution_count": 1,
   "id": "ca0770f8",
   "metadata": {},
   "outputs": [],
   "source": [
    "## Importación de bibliotecas\n",
    "\n",
    "import nltk\n",
    "import contractions\n",
    "import unidecode\n",
    "import re\n",
    "import collections\n",
    "from nltk.corpus import stopwords\n",
    "from cleantext import clean\n",
    "from nltk.stem import WordNetLemmatizer"
   ]
  },
  {
   "cell_type": "code",
   "execution_count": 2,
   "id": "405d8b0e",
   "metadata": {},
   "outputs": [
    {
     "name": "stdout",
     "output_type": "stream",
     "text": [
      "Junkfood - Food that do no good to our body. And there's no need of them in our body but still we willingly eat them because they are great in taste and easy to cook or ready to eat. Junk foods have no or very less nutritional value and irrespective of the way they are marketed, they are not healthy to consume.The only reason of their gaining popularity and increased trend of consumption is\n",
      "that they are ready to eat or easy to cook foods. People, of all age groups are moving towards Junkfood as it is hassle free and often ready to grab and eat. Cold drinks, chips, noodles, pizza, burgers, French fries etc. are few examples from the great variety of junk food available in the market.\n",
      " Junkfood is the most dangerous food ever but it is pleasure in eating and it gives a great taste in mouth examples of Junkfood are kurkure and chips.. cold rings are also source of junk food... they should not be ate in high amounts as it results fatal to our body... it can be eated in a limited extend ... in research it's found tht ths junk foods are very dangerous fr our health\n",
      "Junkfood is very harmful that is slowly eating away the health of the present generation. The term itself denotes how dangerous it is for our bodies. Most importantly, it tastes so good that people consume it on a daily basis. However, not much awareness is spread about the harmful effects of Junkfood .\n",
      "The problem is more serious than you think. Various studies show that Junkfood impacts our health negatively. They contain higher levels of calories, fats, and sugar. On the contrary, they have very low amounts of healthy nutrients and lack dietary fibers. Parents must discourage their children from consuming junk food because of the ill effects it has on one’s health.\n",
      "Junkfood is the easiest way to gain unhealthy weight. The amount of fats and sugar in the food makes you gain weight rapidly. However, this is not a healthy weight. It is more of fats and cholesterol which will have a harmful impact on your health. Junk food is also one of the main reasons for the increase in obesity nowadays.\n",
      "This food only looks and tastes good, other than that, it has no positive points. The amount of calories your body requires to stay fit is not fulfilled by this food. For instance, foods like French fries, burgers, candy, and cookies, all have high amounts of sugar and fats. Therefore, this can result in long-term illnesses like diabetes and high blood pressure. This may also result in kidney failure.\n"
     ]
    }
   ],
   "source": [
    "## Lectura de archivo Texto.txt y asignación del contenido a la variable Texto\n",
    "\n",
    "with open('Texto.txt', 'r', encoding='utf-8') as file:\n",
    "    texto = file.read()\n",
    "    print(texto)"
   ]
  },
  {
   "cell_type": "code",
   "execution_count": 3,
   "id": "762f5a31",
   "metadata": {},
   "outputs": [],
   "source": [
    "## Función de limpieza, normaliza tipo de caracteres, expande contracciones, elimina caracteres especiales y dobles espacios\n",
    "\n",
    "def cleanText(text):\n",
    "    text = unidecode.unidecode(text) # Unifica el tipo de simbolos en el texto, por ejemplo ' y ’\n",
    "    text = contractions.fix(text) # Expande las contracciones encontradas en el texto, por ejemplo 's, n't\n",
    "    text = clean(text, punct=True,extra_spaces=True) # Elimina caracteres\n",
    "    text = ' '.join(text.split()) # Elimina espacios\n",
    "    return text.lower()\n",
    "\n",
    "texto_limpio = cleanText(texto)\n",
    "#print(texto_limpio)"
   ]
  },
  {
   "cell_type": "code",
   "execution_count": 4,
   "id": "cff9202d",
   "metadata": {},
   "outputs": [],
   "source": [
    "## Instrucción para tokenization o dividir texto en palabras\n",
    "\n",
    "palabras = texto_limpio.split()\n",
    "#print(palabras)"
   ]
  },
  {
   "cell_type": "code",
   "execution_count": 5,
   "id": "7124252d",
   "metadata": {},
   "outputs": [],
   "source": [
    "## Eliminando stopwords o palabras vacias, por ejemplo, artículos, pronombres, preposiciones\n",
    "\n",
    "stop_words = set(stopwords.words('english'))\n",
    "palabras_imp = [word for word in palabras if not word in stop_words]\n",
    "#print(palabras_imp)"
   ]
  },
  {
   "cell_type": "code",
   "execution_count": 6,
   "id": "36668dca",
   "metadata": {},
   "outputs": [
    {
     "data": {
      "text/plain": [
       "[('food', 9),\n",
       " ('junkfood', 8),\n",
       " ('junk', 6),\n",
       " ('health', 5),\n",
       " ('body', 4),\n",
       " ('eat', 4),\n",
       " ('foods', 4),\n",
       " ('fats', 4),\n",
       " ('good', 3),\n",
       " ('great', 3)]"
      ]
     },
     "execution_count": 6,
     "metadata": {},
     "output_type": "execute_result"
    }
   ],
   "source": [
    "## Conteo de palabras frecuentes\n",
    "\n",
    "conteo_palabras = collections.Counter(palabras_imp)\n",
    "conteo_palabras.most_common(10) # Asigne el número de palabras frecuentes a mostrar, irán de mayor a menor frecuencia"
   ]
  },
  {
   "cell_type": "code",
   "execution_count": 7,
   "id": "700ac6f3",
   "metadata": {},
   "outputs": [],
   "source": [
    "## Lematización de palabras; permite obtener las raices de las palabras, así contar palabras como food y foods como una misma\n",
    "\n",
    "lemmatizer = WordNetLemmatizer()\n",
    "palabras_normalizadas = [lemmatizer.lemmatize(word) for word in palabras_imp]\n",
    "#print(normalized_words)"
   ]
  },
  {
   "cell_type": "code",
   "execution_count": 8,
   "id": "a374b486",
   "metadata": {},
   "outputs": [
    {
     "data": {
      "text/plain": [
       "[('food', 13),\n",
       " ('junkfood', 8),\n",
       " ('junk', 6),\n",
       " ('body', 5),\n",
       " ('amount', 5),\n",
       " ('health', 5),\n",
       " ('eat', 4),\n",
       " ('taste', 4),\n",
       " ('fat', 4),\n",
       " ('good', 3)]"
      ]
     },
     "execution_count": 8,
     "metadata": {},
     "output_type": "execute_result"
    }
   ],
   "source": [
    "## Conteo de palabras normalizadas frecuentes\n",
    "\n",
    "conteo_palabras_l = collections.Counter(palabras_normalizadas)\n",
    "conteo_palabras_l.most_common(10) "
   ]
  }
 ],
 "metadata": {
  "kernelspec": {
   "display_name": "Python 3 (ipykernel)",
   "language": "python",
   "name": "python3"
  },
  "language_info": {
   "codemirror_mode": {
    "name": "ipython",
    "version": 3
   },
   "file_extension": ".py",
   "mimetype": "text/x-python",
   "name": "python",
   "nbconvert_exporter": "python",
   "pygments_lexer": "ipython3",
   "version": "3.8.16"
  }
 },
 "nbformat": 4,
 "nbformat_minor": 5
}
